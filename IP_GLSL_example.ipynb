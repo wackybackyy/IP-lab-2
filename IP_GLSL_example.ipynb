{
 "cells": [
  {
   "cell_type": "code",
   "execution_count": 6,
   "id": "beb51f5e",
   "metadata": {
    "id": "beb51f5e"
   },
   "outputs": [],
   "source": [
    "import OpenGL\n",
    "OpenGL.ERROR_ON_COPY = True\n",
    "from OpenGL.GL import *\n",
    "from OpenGL.GLU import *\n",
    "from OpenGL.GLUT import *\n",
    "\n",
    "# PyOpenGL 3.0.1 introduces this convenience module...\n",
    "from OpenGL.GL.shaders import *\n",
    "import numpy as np\n",
    "from PIL import Image\n",
    "\n",
    "import time, sys\n",
    "program = None"
   ]
  },
  {
   "cell_type": "markdown",
   "id": "78a20860",
   "metadata": {
    "id": "78a20860"
   },
   "source": [
    "# Инициализация OpenGL. Текстуры и Шейдеры."
   ]
  },
  {
   "cell_type": "code",
   "execution_count": 7,
   "id": "b2ed80bb",
   "metadata": {
    "id": "b2ed80bb"
   },
   "outputs": [],
   "source": [
    "\n",
    "def InitGL(Width, Height,texture_image):   \n",
    "    #set background pixels\n",
    "    glClearColor(0.0, 0.0, 0.0, 0.0)\n",
    "    \n",
    "    # up to 8 textures in one time\n",
    "    glBindTexture( GL_TEXTURE_2D, 0 )\n",
    "    \n",
    "    #set texture context\n",
    "    glTexImage2D( GL_TEXTURE_2D,\n",
    "                      0,\n",
    "                      GL_RGB,\n",
    "                      texture_image.size[0],\n",
    "                      texture_image.size[1],\n",
    "                      0,\n",
    "                      GL_RGBA,\n",
    "                      GL_UNSIGNED_BYTE,\n",
    "                      np.array(list(texture_image.getdata()), np.uint8) )\n",
    "    \n",
    " \n",
    "    \n",
    "    glTexParameteri( GL_TEXTURE_2D, GL_TEXTURE_MIN_FILTER, GL_NEAREST )\n",
    "    glTexParameteri( GL_TEXTURE_2D, GL_TEXTURE_MAG_FILTER, GL_NEAREST )\n",
    "    glTexParameteri( GL_TEXTURE_2D, GL_TEXTURE_WRAP_S, GL_CLAMP_TO_EDGE )\n",
    "    glTexParameteri( GL_TEXTURE_2D, GL_TEXTURE_WRAP_T, GL_CLAMP_TO_EDGE )\n",
    "    \n",
    "    #Set Camera Matrix parameters\n",
    "    glMatrixMode(GL_PROJECTION)\n",
    "    gluPerspective(45.0, window_width/window_height, 0.01, 100.0)\n",
    "    \n",
    "    #set ModelView Matrix parameters\n",
    "    glMatrixMode(GL_MODELVIEW)\n",
    "    \n",
    "    global program\n",
    "    # Compile Shaders, Link to GL-program, compile Program\n",
    "    program = compileProgram(\n",
    "        compileShader('''\n",
    "            varying vec2 pos;\n",
    "            uniform float texture_width;\n",
    "            uniform float texture_height;\n",
    "            \n",
    "            void main() {\n",
    "                \n",
    "                gl_Position = gl_ModelViewProjectionMatrix * gl_Vertex;\n",
    "                pos = gl_MultiTexCoord0.st;\n",
    "                \n",
    "            }\n",
    "        ''',GL_VERTEX_SHADER),\n",
    "        compileShader('''\n",
    "            varying vec2 pos;\n",
    "            \n",
    "            uniform sampler2D s_texture;\n",
    "            uniform float texture_width;\n",
    "            uniform float texture_height;\n",
    "            \n",
    "            void main() {\n",
    "                float tx = pos.x;\n",
    "                float ty = pos.y;\n",
    "                float dx = 1.0 / texture_width;\n",
    "                float dy = 1.0 / texture_height;\n",
    "                \n",
    "\n",
    "                vec4 v1 = texture2D( s_texture, vec2( tx, ty ) + vec2( -dx, -dy ) );\n",
    "                vec4 v2 = texture2D( s_texture, vec2( tx, ty ) + vec2( -dx, 0 ) );\n",
    "                vec4 v3 = texture2D( s_texture, vec2( tx, ty ) + vec2( -dx, dy ) );\n",
    "                \n",
    "                vec4 v4 = texture2D( s_texture, vec2( tx, ty ) + vec2( 0, -dy ) );\n",
    "                vec4 v5 = texture2D( s_texture, vec2( tx, ty ) + vec2( 0 , 0 ) );\n",
    "                vec4 v6 = texture2D( s_texture, vec2( tx, ty ) + vec2( 0, dy ) );\n",
    "                \n",
    "                vec4 v7 = texture2D( s_texture, vec2( tx, ty ) + vec2( dx, -dy ) );\n",
    "                vec4 v8 = texture2D( s_texture, vec2( tx, ty ) + vec2( dx, 0 ) );\n",
    "                vec4 v9 = texture2D( s_texture, vec2( tx, ty ) + vec2( dx, dy ) );\n",
    "                \n",
    "                //gl_FragColor = texture2D(s_texture, vec2( tx, ty ));\n",
    "                vec4 final_color = ( v1 + v2 + v3 + v4 + v5 + v6 + v7 +v8 + v9) / 9.0;\n",
    "                gl_FragColor = clamp(abs(v5 - final_color) * 100.0, vec4(0,0,0,0), vec4(1,1,1,1)) ;\n",
    "            }\n",
    "    ''',GL_FRAGMENT_SHADER),)"
   ]
  },
  {
   "cell_type": "code",
   "execution_count": 8,
   "id": "b4b016e3",
   "metadata": {
    "id": "b4b016e3"
   },
   "outputs": [],
   "source": [
    "\n",
    "def DrawGLScene():\n",
    "    # Clear color buffer\n",
    "    glClear(GL_COLOR_BUFFER_BIT)\n",
    "    \n",
    "    # Restore Model Matrix parameters\n",
    "    glLoadIdentity()\n",
    "    \n",
    "    # Translate\n",
    "    glTranslatef(0, 0, -7)\n",
    "    \n",
    "    # Load OpenGL(with shaders)program context \n",
    "    glUseProgram(program)\n",
    "    \n",
    "    #Texture                \n",
    "    glEnable(GL_TEXTURE_2D)\n",
    "    #Draw Quad-points with associated texture coordinates\n",
    "    \n",
    "    glBegin(GL_QUADS)\n",
    "    glVertex3f(-5,-5,0)\n",
    "    glTexCoord2f(0,0)\n",
    "    \n",
    "    glVertex3f( -5, 5, 0)\n",
    "    glTexCoord2f(0,1)\n",
    "    \n",
    "    glVertex3f( 5, 5, 0)\n",
    "    glTexCoord2f(1,1)\n",
    "    \n",
    "    glVertex3f( 5, -5, 0)\n",
    "    glTexCoord2f(1,0)\n",
    "    glEnd()\n",
    "    \n",
    "    #Load parameters to fragment shader\n",
    "    glUniform1i( glGetUniformLocation( program, \"s_texture\" ), 0 );\n",
    "    glUniform1f( glGetUniformLocation( program, \"texture_width\" ), float( texture_image.size[ 0 ] ) )\n",
    "    glUniform1f( glGetUniformLocation( program, \"texture_height\" ), float( texture_image.size[ 1 ] ) )\n",
    "    \n",
    "    glFlush()"
   ]
  },
  {
   "cell_type": "markdown",
   "id": "a06b4e37",
   "metadata": {
    "id": "a06b4e37"
   },
   "source": [
    "# Запуск рендеринга.  Управляющая программа. GLUT"
   ]
  },
  {
   "cell_type": "markdown",
   "id": "2d5dbafc",
   "metadata": {
    "id": "2d5dbafc"
   },
   "source": [
    "Инициализация контекста GLUT"
   ]
  },
  {
   "cell_type": "code",
   "execution_count": 9,
   "id": "63086763",
   "metadata": {
    "id": "63086763",
    "outputId": "a1276944-33b3-4ea3-8e06-d5abbf27bda1"
   },
   "outputs": [
    {
     "data": {
      "text/plain": [
       "(['C:\\\\Users\\\\Svetlana\\\\AppData\\\\Local\\\\Programs\\\\Python\\\\Python310\\\\lib\\\\site-packages\\\\ipykernel_launcher.py',\n",
       "  '-f',\n",
       "  'C:\\\\Users\\\\Svetlana\\\\AppData\\\\Roaming\\\\jupyter\\\\runtime\\\\kernel-17a0366b-19b4-471c-8cfa-c71fa995a3b9.json'],)"
      ]
     },
     "execution_count": 9,
     "metadata": {},
     "output_type": "execute_result"
    }
   ],
   "source": [
    "global window\n",
    "glutInit(sys.argv)"
   ]
  },
  {
   "cell_type": "markdown",
   "id": "b99e920e",
   "metadata": {
    "id": "b99e920e"
   },
   "source": [
    "Загрузка изображения"
   ]
  },
  {
   "cell_type": "code",
   "execution_count": 10,
   "id": "556be9c8",
   "metadata": {
    "id": "556be9c8"
   },
   "outputs": [],
   "source": [
    "texture_image = Image.open( 'test_img.png' ).convert('RGBA').rotate(90)\n",
    "window_width, window_height = texture_image.size"
   ]
  },
  {
   "cell_type": "markdown",
   "id": "e03fb9d4",
   "metadata": {
    "id": "e03fb9d4"
   },
   "source": [
    "Инициализация окна отрисовки"
   ]
  },
  {
   "cell_type": "code",
   "execution_count": 11,
   "id": "533e9e85",
   "metadata": {
    "id": "533e9e85"
   },
   "outputs": [],
   "source": [
    "glutInitWindowSize(window_width,window_height)\n",
    "glutInitWindowPosition(0, 0)\n",
    "window = glutCreateWindow(\"Shader Image Processing example\")"
   ]
  },
  {
   "cell_type": "markdown",
   "id": "75dfe635",
   "metadata": {
    "id": "75dfe635"
   },
   "source": [
    "Назначение функций для отображения текущего окна и перерисовки (системный запрос)"
   ]
  },
  {
   "cell_type": "code",
   "execution_count": 12,
   "id": "1f1464c0",
   "metadata": {
    "id": "1f1464c0",
    "outputId": "df3b43c2-ba99-47f6-f14b-d60f09bb92b8"
   },
   "outputs": [
    {
     "data": {
      "text/plain": [
       "<CFunctionType object at 0x000001B9BCE41150>"
      ]
     },
     "execution_count": 12,
     "metadata": {},
     "output_type": "execute_result"
    }
   ],
   "source": [
    "glutDisplayFunc(DrawGLScene)\n",
    "glutIdleFunc(DrawGLScene)"
   ]
  },
  {
   "cell_type": "markdown",
   "id": "ec85612c",
   "metadata": {
    "id": "ec85612c"
   },
   "source": [
    "Инициализация контекста OpenGL (собственно разработанная функция)"
   ]
  },
  {
   "cell_type": "code",
   "execution_count": 13,
   "id": "8ac0d44d",
   "metadata": {
    "id": "8ac0d44d"
   },
   "outputs": [],
   "source": [
    "InitGL(window_width,window_height,texture_image)"
   ]
  },
  {
   "cell_type": "markdown",
   "id": "76cb076c",
   "metadata": {
    "id": "76cb076c"
   },
   "source": [
    "Запуск цикла для отрисовки"
   ]
  },
  {
   "cell_type": "code",
   "execution_count": null,
   "id": "97c16e4c",
   "metadata": {
    "id": "97c16e4c",
    "outputId": "6536b98d-9cde-4f2d-9c5d-c41fb9a56d16"
   },
   "outputs": [],
   "source": [
    "glutMainLoop()"
   ]
  }
 ],
 "metadata": {
  "colab": {
   "collapsed_sections": [],
   "name": "IP_GLSL_example.ipynb",
   "provenance": []
  },
  "kernelspec": {
   "display_name": "Python 3 (ipykernel)",
   "language": "python",
   "name": "python3"
  },
  "language_info": {
   "codemirror_mode": {
    "name": "ipython",
    "version": 3
   },
   "file_extension": ".py",
   "mimetype": "text/x-python",
   "name": "python",
   "nbconvert_exporter": "python",
   "pygments_lexer": "ipython3",
   "version": "3.13.9"
  }
 },
 "nbformat": 4,
 "nbformat_minor": 5
}
